{
 "cells": [
  {
   "cell_type": "markdown",
   "metadata": {},
   "source": [
    "# Spring Research 2022\n",
    "**Ethan Santos**"
   ]
  },
  {
   "cell_type": "markdown",
   "metadata": {},
   "source": [
    "**Purpose:** This file is used to explore the datasheets which hold the average alpha and beta waves found among different channel waves. The goal of this program/file is to find an underlying pattern within the data, before applying any sort of ML concepts."
   ]
  },
  {
   "cell_type": "markdown",
   "metadata": {},
   "source": [
    "## Putting together our data frames"
   ]
  },
  {
   "cell_type": "code",
   "execution_count": 105,
   "metadata": {},
   "outputs": [],
   "source": [
    "# Importing necessary libraries\n",
    "import warnings\n",
    "import matplotlib.pyplot as plt\n",
    "import pandas as pd \n",
    "import numpy as np\n",
    "import openpyxl\n",
    "\n",
    "from IPython.display import display\n",
    "\n",
    "warnings.filterwarnings('ignore')"
   ]
  },
  {
   "cell_type": "code",
   "execution_count": 106,
   "metadata": {},
   "outputs": [],
   "source": [
    "# Storing data set paths in an array/list\n",
    "D_DATA = r'data/ddata.xlsx'\n",
    "J_DATA = r'data/jdata.xlsx'\n",
    "KB_DATA = r'data/KBdata.xlsx'\n",
    "KL_DATA = r'data/KLData.xlsx'"
   ]
  },
  {
   "cell_type": "markdown",
   "metadata": {},
   "source": [
    "Here, we define the rows by channel for our data frames that we would like to analyze."
   ]
  },
  {
   "cell_type": "code",
   "execution_count": 107,
   "metadata": {},
   "outputs": [],
   "source": [
    "data1 = pd.DataFrame({'Channels': ['4', '8', '12', 'Original', 'Original', '12', '8', '4']})\n",
    "data2 = pd.DataFrame({'Channels': ['4', '8', '12', 'Original', 'Original', '12', '8', '4']})\n",
    "data3 = pd.DataFrame({'Channels': ['4', '8', '12', 'Original', 'Original', '12', '8', '4']})\n",
    "data4 = pd.DataFrame({'Channels': ['4', '8', '12', 'Original', 'Original', '12', '8', '4']})\n",
    "dataframes = [data1, data2, data3, data4]"
   ]
  },
  {
   "cell_type": "markdown",
   "metadata": {},
   "source": [
    "Getting the alpha and beta data from our data sets."
   ]
  },
  {
   "cell_type": "code",
   "execution_count": 108,
   "metadata": {},
   "outputs": [],
   "source": [
    "# Alpha\n",
    "d_data_alpha = pd.read_excel(D_DATA, sheet_name = 'alpha+beta', nrows = 8, engine = 'openpyxl')\n",
    "j_data_alpha = pd.read_excel(J_DATA, sheet_name = \"alpha+beta\", nrows = 8, engine = 'openpyxl')\n",
    "KB_data_alpha = pd.read_excel(KB_DATA, sheet_name = \"alpha+beta\", nrows = 8, engine = 'openpyxl')\n",
    "KL_data_alpha = pd.read_excel(KL_DATA, sheet_name = \"alpha+beta\", nrows = 8, engine = 'openpyxl')\n",
    "\n",
    "alpha_data = [d_data_alpha, j_data_alpha, KB_data_alpha, KL_data_alpha]\n",
    "# Beta\n",
    "d_data_beta = pd.read_excel(D_DATA, sheet_name = 'alpha+beta', skiprows = 11, engine = 'openpyxl')\n",
    "j_data_beta = pd.read_excel(D_DATA, sheet_name = 'alpha+beta', skiprows = 11, engine = 'openpyxl')\n",
    "KB_data_beta = pd.read_excel(D_DATA, sheet_name = 'alpha+beta', skiprows = 11, engine = 'openpyxl')\n",
    "KL_data_beta = pd.read_excel(D_DATA, sheet_name = 'alpha+beta', skiprows = 11, engine = 'openpyxl')\n",
    "\n",
    "beta_data = [d_data_beta, j_data_beta, KB_data_beta, KL_data_beta]\n",
    "\n"
   ]
  },
  {
   "cell_type": "markdown",
   "metadata": {},
   "source": [
    "Calculating the alpha and beta mean values and adding it to our dataframes."
   ]
  },
  {
   "cell_type": "code",
   "execution_count": 109,
   "metadata": {},
   "outputs": [],
   "source": [
    "for i in range(0, 4):\n",
    "    alpha_data[i].dropna()\n",
    "    beta_data[i].dropna()\n",
    "    dataframes[i]['alpha mean'] = alpha_data[i].mean(axis = 1)\n",
    "    dataframes[i]['beta mean'] = beta_data[i].mean(axis = 1)"
   ]
  },
  {
   "cell_type": "markdown",
   "metadata": {},
   "source": [
    "## Our Alpha/Beta Mean Datasets"
   ]
  },
  {
   "cell_type": "code",
   "execution_count": 110,
   "metadata": {},
   "outputs": [
    {
     "data": {
      "text/html": [
       "<div>\n",
       "<style scoped>\n",
       "    .dataframe tbody tr th:only-of-type {\n",
       "        vertical-align: middle;\n",
       "    }\n",
       "\n",
       "    .dataframe tbody tr th {\n",
       "        vertical-align: top;\n",
       "    }\n",
       "\n",
       "    .dataframe thead th {\n",
       "        text-align: right;\n",
       "    }\n",
       "</style>\n",
       "<table border=\"1\" class=\"dataframe\">\n",
       "  <thead>\n",
       "    <tr style=\"text-align: right;\">\n",
       "      <th></th>\n",
       "      <th>Channels</th>\n",
       "      <th>alpha mean</th>\n",
       "      <th>beta mean</th>\n",
       "    </tr>\n",
       "  </thead>\n",
       "  <tbody>\n",
       "    <tr>\n",
       "      <th>0</th>\n",
       "      <td>4</td>\n",
       "      <td>37.337175</td>\n",
       "      <td>54.018326</td>\n",
       "    </tr>\n",
       "    <tr>\n",
       "      <th>1</th>\n",
       "      <td>8</td>\n",
       "      <td>70.716129</td>\n",
       "      <td>88.047892</td>\n",
       "    </tr>\n",
       "    <tr>\n",
       "      <th>2</th>\n",
       "      <td>12</td>\n",
       "      <td>58.842487</td>\n",
       "      <td>57.918853</td>\n",
       "    </tr>\n",
       "    <tr>\n",
       "      <th>3</th>\n",
       "      <td>Original</td>\n",
       "      <td>242.827418</td>\n",
       "      <td>181.241887</td>\n",
       "    </tr>\n",
       "    <tr>\n",
       "      <th>4</th>\n",
       "      <td>Original</td>\n",
       "      <td>55.370848</td>\n",
       "      <td>85.149278</td>\n",
       "    </tr>\n",
       "    <tr>\n",
       "      <th>5</th>\n",
       "      <td>12</td>\n",
       "      <td>83.859834</td>\n",
       "      <td>108.702418</td>\n",
       "    </tr>\n",
       "    <tr>\n",
       "      <th>6</th>\n",
       "      <td>8</td>\n",
       "      <td>50.778366</td>\n",
       "      <td>97.317255</td>\n",
       "    </tr>\n",
       "    <tr>\n",
       "      <th>7</th>\n",
       "      <td>4</td>\n",
       "      <td>75.798749</td>\n",
       "      <td>105.062015</td>\n",
       "    </tr>\n",
       "  </tbody>\n",
       "</table>\n",
       "</div>"
      ],
      "text/plain": [
       "   Channels  alpha mean   beta mean\n",
       "0         4   37.337175   54.018326\n",
       "1         8   70.716129   88.047892\n",
       "2        12   58.842487   57.918853\n",
       "3  Original  242.827418  181.241887\n",
       "4  Original   55.370848   85.149278\n",
       "5        12   83.859834  108.702418\n",
       "6         8   50.778366   97.317255\n",
       "7         4   75.798749  105.062015"
      ]
     },
     "metadata": {},
     "output_type": "display_data"
    },
    {
     "data": {
      "text/html": [
       "<div>\n",
       "<style scoped>\n",
       "    .dataframe tbody tr th:only-of-type {\n",
       "        vertical-align: middle;\n",
       "    }\n",
       "\n",
       "    .dataframe tbody tr th {\n",
       "        vertical-align: top;\n",
       "    }\n",
       "\n",
       "    .dataframe thead th {\n",
       "        text-align: right;\n",
       "    }\n",
       "</style>\n",
       "<table border=\"1\" class=\"dataframe\">\n",
       "  <thead>\n",
       "    <tr style=\"text-align: right;\">\n",
       "      <th></th>\n",
       "      <th>Channels</th>\n",
       "      <th>alpha mean</th>\n",
       "      <th>beta mean</th>\n",
       "    </tr>\n",
       "  </thead>\n",
       "  <tbody>\n",
       "    <tr>\n",
       "      <th>0</th>\n",
       "      <td>4</td>\n",
       "      <td>32.798210</td>\n",
       "      <td>54.018326</td>\n",
       "    </tr>\n",
       "    <tr>\n",
       "      <th>1</th>\n",
       "      <td>8</td>\n",
       "      <td>47.457743</td>\n",
       "      <td>88.047892</td>\n",
       "    </tr>\n",
       "    <tr>\n",
       "      <th>2</th>\n",
       "      <td>12</td>\n",
       "      <td>56.213651</td>\n",
       "      <td>57.918853</td>\n",
       "    </tr>\n",
       "    <tr>\n",
       "      <th>3</th>\n",
       "      <td>Original</td>\n",
       "      <td>27.377405</td>\n",
       "      <td>181.241887</td>\n",
       "    </tr>\n",
       "    <tr>\n",
       "      <th>4</th>\n",
       "      <td>Original</td>\n",
       "      <td>41.450852</td>\n",
       "      <td>85.149278</td>\n",
       "    </tr>\n",
       "    <tr>\n",
       "      <th>5</th>\n",
       "      <td>12</td>\n",
       "      <td>453.544176</td>\n",
       "      <td>108.702418</td>\n",
       "    </tr>\n",
       "    <tr>\n",
       "      <th>6</th>\n",
       "      <td>8</td>\n",
       "      <td>33.816853</td>\n",
       "      <td>97.317255</td>\n",
       "    </tr>\n",
       "    <tr>\n",
       "      <th>7</th>\n",
       "      <td>4</td>\n",
       "      <td>30.774221</td>\n",
       "      <td>105.062015</td>\n",
       "    </tr>\n",
       "  </tbody>\n",
       "</table>\n",
       "</div>"
      ],
      "text/plain": [
       "   Channels  alpha mean   beta mean\n",
       "0         4   32.798210   54.018326\n",
       "1         8   47.457743   88.047892\n",
       "2        12   56.213651   57.918853\n",
       "3  Original   27.377405  181.241887\n",
       "4  Original   41.450852   85.149278\n",
       "5        12  453.544176  108.702418\n",
       "6         8   33.816853   97.317255\n",
       "7         4   30.774221  105.062015"
      ]
     },
     "metadata": {},
     "output_type": "display_data"
    },
    {
     "data": {
      "text/html": [
       "<div>\n",
       "<style scoped>\n",
       "    .dataframe tbody tr th:only-of-type {\n",
       "        vertical-align: middle;\n",
       "    }\n",
       "\n",
       "    .dataframe tbody tr th {\n",
       "        vertical-align: top;\n",
       "    }\n",
       "\n",
       "    .dataframe thead th {\n",
       "        text-align: right;\n",
       "    }\n",
       "</style>\n",
       "<table border=\"1\" class=\"dataframe\">\n",
       "  <thead>\n",
       "    <tr style=\"text-align: right;\">\n",
       "      <th></th>\n",
       "      <th>Channels</th>\n",
       "      <th>alpha mean</th>\n",
       "      <th>beta mean</th>\n",
       "    </tr>\n",
       "  </thead>\n",
       "  <tbody>\n",
       "    <tr>\n",
       "      <th>0</th>\n",
       "      <td>4</td>\n",
       "      <td>218.152397</td>\n",
       "      <td>54.018326</td>\n",
       "    </tr>\n",
       "    <tr>\n",
       "      <th>1</th>\n",
       "      <td>8</td>\n",
       "      <td>5902.690936</td>\n",
       "      <td>88.047892</td>\n",
       "    </tr>\n",
       "    <tr>\n",
       "      <th>2</th>\n",
       "      <td>12</td>\n",
       "      <td>812.466229</td>\n",
       "      <td>57.918853</td>\n",
       "    </tr>\n",
       "    <tr>\n",
       "      <th>3</th>\n",
       "      <td>Original</td>\n",
       "      <td>234.426498</td>\n",
       "      <td>181.241887</td>\n",
       "    </tr>\n",
       "    <tr>\n",
       "      <th>4</th>\n",
       "      <td>Original</td>\n",
       "      <td>138.791983</td>\n",
       "      <td>85.149278</td>\n",
       "    </tr>\n",
       "    <tr>\n",
       "      <th>5</th>\n",
       "      <td>12</td>\n",
       "      <td>296.243792</td>\n",
       "      <td>108.702418</td>\n",
       "    </tr>\n",
       "    <tr>\n",
       "      <th>6</th>\n",
       "      <td>8</td>\n",
       "      <td>168.901153</td>\n",
       "      <td>97.317255</td>\n",
       "    </tr>\n",
       "    <tr>\n",
       "      <th>7</th>\n",
       "      <td>4</td>\n",
       "      <td>187.379367</td>\n",
       "      <td>105.062015</td>\n",
       "    </tr>\n",
       "  </tbody>\n",
       "</table>\n",
       "</div>"
      ],
      "text/plain": [
       "   Channels   alpha mean   beta mean\n",
       "0         4   218.152397   54.018326\n",
       "1         8  5902.690936   88.047892\n",
       "2        12   812.466229   57.918853\n",
       "3  Original   234.426498  181.241887\n",
       "4  Original   138.791983   85.149278\n",
       "5        12   296.243792  108.702418\n",
       "6         8   168.901153   97.317255\n",
       "7         4   187.379367  105.062015"
      ]
     },
     "metadata": {},
     "output_type": "display_data"
    },
    {
     "data": {
      "text/html": [
       "<div>\n",
       "<style scoped>\n",
       "    .dataframe tbody tr th:only-of-type {\n",
       "        vertical-align: middle;\n",
       "    }\n",
       "\n",
       "    .dataframe tbody tr th {\n",
       "        vertical-align: top;\n",
       "    }\n",
       "\n",
       "    .dataframe thead th {\n",
       "        text-align: right;\n",
       "    }\n",
       "</style>\n",
       "<table border=\"1\" class=\"dataframe\">\n",
       "  <thead>\n",
       "    <tr style=\"text-align: right;\">\n",
       "      <th></th>\n",
       "      <th>Channels</th>\n",
       "      <th>alpha mean</th>\n",
       "      <th>beta mean</th>\n",
       "    </tr>\n",
       "  </thead>\n",
       "  <tbody>\n",
       "    <tr>\n",
       "      <th>0</th>\n",
       "      <td>4</td>\n",
       "      <td>168.819177</td>\n",
       "      <td>54.018326</td>\n",
       "    </tr>\n",
       "    <tr>\n",
       "      <th>1</th>\n",
       "      <td>8</td>\n",
       "      <td>170.536149</td>\n",
       "      <td>88.047892</td>\n",
       "    </tr>\n",
       "    <tr>\n",
       "      <th>2</th>\n",
       "      <td>12</td>\n",
       "      <td>203.174185</td>\n",
       "      <td>57.918853</td>\n",
       "    </tr>\n",
       "    <tr>\n",
       "      <th>3</th>\n",
       "      <td>Original</td>\n",
       "      <td>284.348029</td>\n",
       "      <td>181.241887</td>\n",
       "    </tr>\n",
       "    <tr>\n",
       "      <th>4</th>\n",
       "      <td>Original</td>\n",
       "      <td>211.740555</td>\n",
       "      <td>85.149278</td>\n",
       "    </tr>\n",
       "    <tr>\n",
       "      <th>5</th>\n",
       "      <td>12</td>\n",
       "      <td>242.407531</td>\n",
       "      <td>108.702418</td>\n",
       "    </tr>\n",
       "    <tr>\n",
       "      <th>6</th>\n",
       "      <td>8</td>\n",
       "      <td>286.224633</td>\n",
       "      <td>97.317255</td>\n",
       "    </tr>\n",
       "    <tr>\n",
       "      <th>7</th>\n",
       "      <td>4</td>\n",
       "      <td>185.355378</td>\n",
       "      <td>105.062015</td>\n",
       "    </tr>\n",
       "  </tbody>\n",
       "</table>\n",
       "</div>"
      ],
      "text/plain": [
       "   Channels  alpha mean   beta mean\n",
       "0         4  168.819177   54.018326\n",
       "1         8  170.536149   88.047892\n",
       "2        12  203.174185   57.918853\n",
       "3  Original  284.348029  181.241887\n",
       "4  Original  211.740555   85.149278\n",
       "5        12  242.407531  108.702418\n",
       "6         8  286.224633   97.317255\n",
       "7         4  185.355378  105.062015"
      ]
     },
     "metadata": {},
     "output_type": "display_data"
    }
   ],
   "source": [
    "for i in dataframes: display(i)"
   ]
  },
  {
   "cell_type": "markdown",
   "metadata": {},
   "source": [
    "## Plotting Our Graphs"
   ]
  },
  {
   "cell_type": "code",
   "execution_count": 125,
   "metadata": {},
   "outputs": [
    {
     "data": {
      "text/plain": [
       "<AxesSubplot:title={'center':'KL Data'}, xlabel='Channels'>"
      ]
     },
     "execution_count": 125,
     "metadata": {},
     "output_type": "execute_result"
    },
    {
     "data": {
      "image/png": "[encoded data removed]",
      "text/plain": [
       "<Figure size 432x288 with 4 Axes>"
      ]
     },
     "metadata": {
      "needs_background": "light"
     },
     "output_type": "display_data"
    }
   ],
   "source": [
    "fig, axes = plt.subplots(nrows = 2, ncols = 2)\n",
    "fig.subplots_adjust(left = 0.125, \n",
    "                    bottom = 0.1, \n",
    "                    right = 0.9,\n",
    "                    top = 1.3,\n",
    "                    wspace = 0.6,\n",
    "                    hspace = 0.6)\n",
    "dataframes[0].plot.line(ax = axes[0, 0], x = \"Channels\", title = \"D Data\")\n",
    "dataframes[1].plot.line(ax = axes[0, 1], x = \"Channels\", title = \"J Data\")\n",
    "dataframes[2].plot.line(ax = axes[1, 0], x = \"Channels\", title = \"KB Data\")\n",
    "dataframes[3].plot.line(ax = axes[1, 1], x = \"Channels\", title = \"KL Data\")\n"
   ]
  }
 ],
 "metadata": {
  "interpreter": {
   "hash": "264e36b1ce21886a719073b0ac744a20c9e1d6b405c6dc4c0e276b433aecec4c"
  },
  "kernelspec": {
   "display_name": "Python 3.10.1 64-bit",
   "language": "python",
   "name": "python3"
  },
  "language_info": {
   "codemirror_mode": {
    "name": "ipython",
    "version": 3
   },
   "file_extension": ".py",
   "mimetype": "text/x-python",
   "name": "python",
   "nbconvert_exporter": "python",
   "pygments_lexer": "ipython3",
   "version": "3.7.0"
  },
  "orig_nbformat": 4
 },
 "nbformat": 4,
 "nbformat_minor": 2
}
